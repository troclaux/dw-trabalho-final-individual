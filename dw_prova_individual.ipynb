{
  "cells": [
    {
      "cell_type": "markdown",
      "metadata": {},
      "source": [
        "## Checa se todas as bibliotecas estão baixadas"
      ]
    },
    {
      "cell_type": "code",
      "execution_count": null,
      "metadata": {},
      "outputs": [],
      "source": [
        "!pip install googledrivedownloader\n"
      ]
    },
    {
      "cell_type": "markdown",
      "metadata": {},
      "source": [
        "## Baixa dados do enade da Web"
      ]
    },
    {
      "cell_type": "code",
      "execution_count": 16,
      "metadata": {
        "id": "zgQurAUI_PpJ"
      },
      "outputs": [
        {
          "name": "stdout",
          "output_type": "stream",
          "text": [
            "Downloading 1kl2PDP0EGXZE_HVgRZ9NNHOl5Pleo_OR into ./MICRODADOS_ENADE_2017.zip... Done.\n",
            "Unzipping...Done.\n",
            "Downloading 1ff5mcSYpgC1JPFYeb5rRzjZqB_T5L_zg into ./microdados_enade_2018.zip... Done.\n",
            "Unzipping...Done.\n",
            "Downloading 1EKjsNwOsS1dYuoIxRgR-v1kYjaJFzdeL into ./microdados_enade_2019.zip... Done.\n",
            "Unzipping...Done.\n"
          ]
        }
      ],
      "source": [
        "from google_drive_downloader import GoogleDriveDownloader as gdd\n",
        "\n",
        "def delete_file_if_exists(file_path):\n",
        "    if os.path.exists(file_path):\n",
        "        os.remove(file_path)\n",
        "\n",
        "\n",
        "access_link_microdados_2017_zip = 'https://drive.google.com/file/d/1kl2PDP0EGXZE_HVgRZ9NNHOl5Pleo_OR/view?usp=sharing'\n",
        "drive_id_microdados_2017_zip = '1kl2PDP0EGXZE_HVgRZ9NNHOl5Pleo_OR'\n",
        "microdados_2017_zip_path = './MICRODADOS_ENADE_2017.zip'\n",
        "\n",
        "access_link_microdados_2018_zip = 'https://drive.google.com/file/d/1ff5mcSYpgC1JPFYeb5rRzjZqB_T5L_zg/view?usp=sharing'\n",
        "drive_id_microdados_2018_zip = '1ff5mcSYpgC1JPFYeb5rRzjZqB_T5L_zg'\n",
        "microdados_2018_zip_path = './microdados_enade_2018.zip'\n",
        "\n",
        "access_link_microdados_2019_zip = 'https://drive.google.com/file/d/1EKjsNwOsS1dYuoIxRgR-v1kYjaJFzdeL/view?usp=sharing'\n",
        "drive_id_microdados_2019_zip = '1EKjsNwOsS1dYuoIxRgR-v1kYjaJFzdeL'\n",
        "microdados_2019_zip_path = './microdados_enade_2019.zip'\n",
        "\n",
        "gdd.download_file_from_google_drive( drive_id_microdados_2017_zip, './MICRODADOS_ENADE_2017.zip', unzip=True)\n",
        "gdd.download_file_from_google_drive( drive_id_microdados_2018_zip, './microdados_enade_2018.zip', unzip=True)\n",
        "gdd.download_file_from_google_drive( drive_id_microdados_2019_zip, './microdados_enade_2019.zip', unzip=True)\n",
        "\n",
        "delete_file_if_exists(microdados_2017_zip_path)\n",
        "delete_file_if_exists(microdados_2018_zip_path)\n",
        "delete_file_if_exists(microdados_2019_zip_path)\n"
      ]
    },
    {
      "cell_type": "markdown",
      "metadata": {},
      "source": [
        "## Baixa workflow do KNIME da Web"
      ]
    },
    {
      "cell_type": "markdown",
      "metadata": {},
      "source": [
        "O workflow KNIME será responsável pelo aprendizado de máquina e pelos diagramas/tabelas que vão responder as 5 perguntas propostas"
      ]
    },
    {
      "cell_type": "markdown",
      "metadata": {},
      "source": [
        "## Copia dados do ENADE pra pasta Downloads"
      ]
    },
    {
      "cell_type": "code",
      "execution_count": 17,
      "metadata": {},
      "outputs": [
        {
          "data": {
            "text/plain": [
              "'C:\\\\Users\\\\arthu\\\\Downloads\\\\microdados_enade_2019.txt'"
            ]
          },
          "execution_count": 17,
          "metadata": {},
          "output_type": "execute_result"
        }
      ],
      "source": [
        "import shutil\n",
        "\n",
        "#Checa se os arquivos já existem na pasta Downloads do computador, caso não existam, copia os arquivos para a pasta Downloads\n",
        "\n",
        "def getPathMicrodados(file_name):\n",
        "    return os.path.join( os.getenv('USERPROFILE'), 'Downloads', file_name)\n",
        "\n",
        "if os.path.exists(getPathMicrodados('MICRODADOS_ENADE_2017.txt')):\n",
        "    os.remove(getPathMicrodados('MICRODADOS_ENADE_2017.txt'))\n",
        "\n",
        "if (os.path.isfile(getPathMicrodados('microdados_enade_2018.txt'))):\n",
        "    os.remove(getPathMicrodados('microdados_enade_2018.txt'))\n",
        "\n",
        "if (os.path.isfile(getPathMicrodados('microdados_enade_2019.txt'))):\n",
        "    os.remove(getPathMicrodados('microdados_enade_2019.txt'))\n",
        "\n",
        "shutil.copy('MICRODADOS_ENADE_2017.txt', os.path.join( os.getenv('USERPROFILE'), 'Downloads'))\n",
        "shutil.copy('microdados_enade_2018.txt', os.path.join(os.getenv('USERPROFILE'), 'Downloads'))\n",
        "shutil.copy('microdados_enade_2019.txt', os.path.join(os.getenv('USERPROFILE'), 'Downloads'))\n"
      ]
    },
    {
      "cell_type": "markdown",
      "metadata": {},
      "source": [
        "## Cria banco de dados"
      ]
    },
    {
      "cell_type": "code",
      "execution_count": null,
      "metadata": {},
      "outputs": [],
      "source": [
        "import sqlite3\n",
        "from sqlite3 import Error\n",
        "import os\n",
        "\n",
        "#https://www.sqlitetutorial.net/sqlite-python/\n",
        "\n",
        "\n",
        "def create_connection(db_file):\n",
        "    \"\"\" create a database connection to a SQLite database \"\"\"\n",
        "    conn = None\n",
        "    try:\n",
        "        conn = sqlite3.connect(db_file)\n",
        "    except Error as e:\n",
        "        print(e)\n",
        "    finally:\n",
        "        if conn:\n",
        "            conn.close()\n",
        "\n",
        "\n",
        "def getPath():\n",
        "    return os.path.join(os.getcwd(), 'dw_prova_individual.db')\n",
        "\n",
        "\n",
        "if __name__ == '__main__':\n",
        "    conn = create_connection(getPath())\n"
      ]
    },
    {
      "cell_type": "code",
      "execution_count": null,
      "metadata": {},
      "outputs": [],
      "source": [
        "\n",
        "def create_connection(db_file):\n",
        "    \"\"\" create a database connection to a SQLite database \"\"\"\n",
        "    conn = None\n",
        "    try:\n",
        "        conn = sqlite3.connect(db_file)\n",
        "    except Error as e:\n",
        "        print(e)\n",
        "    finally:\n",
        "        if conn:\n",
        "            conn.close()\n",
        "\n",
        "\n",
        "def getPath():\n",
        "    return os.path.join(os.getcwd(), 'dw_prova_grupo.db')\n",
        "\n",
        "\n",
        "if __name__ == '__main__':\n",
        "    print(getPath())\n",
        "    conn = create_connection(getPath())\n",
        "\n"
      ]
    },
    {
      "cell_type": "code",
      "execution_count": null,
      "metadata": {},
      "outputs": [],
      "source": [
        "def create_table(conn, create_table_sql):\n",
        "    \"\"\" create a table from the create_table_sql statement\n",
        "    :param conn: Connection object\n",
        "    :param create_table_sql: a CREATE TABLE statement\n",
        "    :return:\n",
        "    \"\"\"\n",
        "    try:\n",
        "        c = conn.cursor()\n",
        "        c.execute(create_table_sql)\n",
        "    except Error as e:\n",
        "        print(e)\n"
      ]
    },
    {
      "cell_type": "markdown",
      "metadata": {},
      "source": [
        "## Cria tabelas no banco de dados"
      ]
    },
    {
      "cell_type": "code",
      "execution_count": null,
      "metadata": {},
      "outputs": [],
      "source": [
        "def main():\n",
        "    database = \"C:\\sqlite\\db\\pythonsqlite.db\"\n",
        "\n",
        "    # cria tabela fato\n",
        "    sql_create_classificacao_enade_table = \"\"\" CREATE TABLE IF NOT EXISTS classificacao_enade (\n",
        "                                        fk_estudante_id text,\n",
        "                                        fk_prova_id integer,\n",
        "                                        fk_co_ies text,\n",
        "                                        fk_questionario_estudante_id integer,\n",
        "                                        fk_percepcao_prova_id integer,\n",
        "                                        fk_tempo_id integer,\n",
        "                                        nt_ger real,\n",
        "                                        nt_fg real,\n",
        "                                        nt_obj_fg real,\n",
        "                                        nt_dis_fg real,\n",
        "                                        nt_fg_d1 real,\n",
        "                                        nt_fg_d1_pt real,\n",
        "                                        nt_fg_d1_ct real,\n",
        "                                        nt_fg_d2 real,\n",
        "                                        nt_fg_d2_pt real,\n",
        "                                        nt_fg_d2_ct real,\n",
        "                                        nt_ce real,\n",
        "                                        nt_obj_ce real,\n",
        "                                        nt_dis_ce real,\n",
        "                                        nt_ce_d1 real,\n",
        "                                        nt_ce_d2 real,\n",
        "                                        nt_ce_d3 real,\n",
        "                                        FOREIGN KEY (fk_estudante_id) REFERENCES estudante(estudante_id),\n",
        "                                        FOREIGN KEY (fk_prova_id) REFERENCES prova(prova_id),\n",
        "                                        FOREIGN KEY (fk_co_ies) REFERENCES ies(co_ies),\n",
        "                                        FOREIGN KEY (fk_questionario_estudante_id) REFERENCES questionario_estudante(questionario_estudante_id),\n",
        "                                        FOREIGN KEY (fk_percepcao_prova_id) REFERENCES percepcao_prova(percepcao_prova_id),\n",
        "                                        FOREIGN KEY (fk_tempo_id) REFERENCES tempo(tempo_id)\n",
        "                                    ); \"\"\"\n",
        "\n",
        "    # cria tabelas dimensao\n",
        "    sql_create_tempo_table = \"\"\" CREATE TABLE IF NOT EXISTS tempo (\n",
        "                                        tempo_id integer PRIMARY KEY,\n",
        "                                        data text,\n",
        "                                        nu_ano integer,\n",
        "                                        ano_fim_em integer,\n",
        "                                        ano_in_grad integer\n",
        "                                    );\"\"\"\n",
        "\n",
        "    sql_create_estudante_table = \"\"\" CREATE TABLE IF NOT EXISTS estudante (\n",
        "                                        estudante_id integer PRIMARY KEY,\n",
        "                                        nu_idade integer,\n",
        "                                        tp_sexo text,\n",
        "                                        co_turno_graduacao integer,\n",
        "                                        tp_inscricao_adm integer,\n",
        "                                        tp_inscricao integer\n",
        "                                    );\"\"\"\n",
        "\n",
        "    sql_create_ies_table = \"\"\" CREATE TABLE IF NOT EXISTS ies (\n",
        "                                        co_ies integer PRIMARY KEY,\n",
        "                                        co_categad integer,\n",
        "                                        co_orgacad integer,\n",
        "                                        co_grupo integer,\n",
        "                                        co_curso integer,\n",
        "                                        co_modalidade integer,\n",
        "                                        co_munic_curso integer,\n",
        "                                        co_uf_curso integer,\n",
        "                                        co_regiao_curso integer\n",
        "                                    );\"\"\"\n",
        "\n",
        "    sql_create_prova_table = \"\"\" CREATE TABLE IF NOT EXISTS prova_objetiva (\n",
        "                                        prova_objetiva_id integer PRIMARY KEY,\n",
        "                                        nu_item_ofg integer,\n",
        "                                        nu_item_ofg_z integer,\n",
        "                                        nu_item_ofg_x integer,\n",
        "                                        nu_item_ofg_n integer,\n",
        "                                        nu_item_oce integer,\n",
        "                                        nu_item_oce_z integer,\n",
        "                                        nu_item_oce_x integer,\n",
        "                                        nu_item_oce_n integer,\n",
        "\n",
        "                                        ds_vt_gab_ofg_orig text,\n",
        "                                        ds_vt_gab_ofg_fin text,\n",
        "                                        ds_vt_gab_oce_orig text,\n",
        "                                        ds_vt_gab_oce_fin text,\n",
        "                                        ds_vt_esc_ofg text,\n",
        "                                        ds_vt_ace_ofg text,\n",
        "                                        ds_vt_esc_oce text,\n",
        "                                        ds_vt_ace_oce text\n",
        "                                    );\"\"\"\n",
        "\n",
        "    sql_create_situacao_prova_discursiva_table = \"\"\" CREATE TABLE IF NOT EXISTS situacao_prova_discursiva (\n",
        "                                        situacao_prova_discursiva_id integer PRIMARY KEY,\n",
        "                                        tp_sfg_d1 integer,\n",
        "                                        tp_sfg_d2 integer,\n",
        "                                        tp_sce_d1 integer,\n",
        "                                        tp_sce_d2 integer,\n",
        "                                        tp_sce_d3 integer\n",
        "                                    );\"\"\"\n",
        "\n",
        "    sql_create_percepcao_prova_table = \"\"\" CREATE TABLE IF NOT EXISTS percepcao_prova (\n",
        "                                        percepcao_prova_id integer PRIMARY KEY,\n",
        "                                        co_rs_i1 text,\n",
        "                                        co_rs_i2 text,\n",
        "                                        co_rs_i3 text,\n",
        "                                        co_rs_i4 text,\n",
        "                                        co_rs_i5 text,\n",
        "                                        co_rs_i6 text,\n",
        "                                        co_rs_i7 text,\n",
        "                                        co_rs_i8 text,\n",
        "                                        co_rs_i9 text\n",
        "                                    );\"\"\"\n",
        "\n",
        "    sql_create_questionario_estudante_table = \"\"\" CREATE TABLE IF NOT EXISTS questionario_estudante (\n",
        "                                        questionario_estudante_id integer PRIMARY KEY,\n",
        "                                        feedback_curso text,\n",
        "                                        qe_i01 text,\n",
        "                                        qe_i02 text,\n",
        "                                        qe_i03 text,\n",
        "                                        qe_i04 text,\n",
        "                                        qe_i05 text,\n",
        "                                        qe_i06 text,\n",
        "                                        qe_i07 text,\n",
        "                                        qe_i08 text,\n",
        "                                        qe_i09 text,\n",
        "                                        qe_i10 text,\n",
        "                                        qe_i11 text,\n",
        "                                        qe_i12 text,\n",
        "                                        qe_i13 text,\n",
        "                                        qe_i14 text,\n",
        "                                        qe_i15 text,\n",
        "                                        qe_i16 integer,\n",
        "                                        qe_i17 text,\n",
        "                                        qe_i18 text,\n",
        "                                        qe_i19 text,\n",
        "                                        qe_i20 text,\n",
        "                                        qe_i21 text,\n",
        "                                        qe_i22 text,\n",
        "                                        qe_i23 text,\n",
        "                                        qe_i24 text,\n",
        "                                        qe_i25 text,\n",
        "                                        qe_i26 text,\n",
        "                                        qe_i_69 text,\n",
        "                                        qe_i_70 text,\n",
        "                                        qe_i_71 text,\n",
        "                                        qe_i_72 text,\n",
        "                                        qe_i_73 text,\n",
        "                                        qe_i_74 text,\n",
        "                                        qe_i_75 text,\n",
        "                                        qe_i_76 text,\n",
        "                                        qe_i_77 text,\n",
        "                                        qe_i_78 text,\n",
        "                                        qe_i_79 text,\n",
        "                                        qe_i_80 text,\n",
        "                                        qe_i_81 text\n",
        "                                    );\"\"\"\n",
        "\n",
        "\n",
        "    # create a database connection\n",
        "    conn = create_connection(database)\n",
        "\n",
        "    # create tables\n",
        "    if conn is not None:\n",
        "        # create historico table\n",
        "        create_table(conn, sql_create_classificacao_enade_table)\n",
        "        create_table(conn, sql_create_estudante_table)\n",
        "        create_table(conn, sql_create_ies_table)\n",
        "        create_table(conn, sql_create_prova_table)\n",
        "        create_table(conn, sql_create_percepcao_prova_table)\n",
        "        create_table(conn, sql_create_questionario_estudante_table)\n",
        "        create_table(conn, sql_create_tempo_table)\n",
        "    else:\n",
        "        print(\"Error! cannot create the database connection.\")\n"
      ]
    },
    {
      "cell_type": "code",
      "execution_count": null,
      "metadata": {},
      "outputs": [],
      "source": [
        "if __name__ == '__main__':\n",
        "    main()"
      ]
    },
    {
      "cell_type": "markdown",
      "metadata": {},
      "source": [
        "## Lê dados do arquivo .txt"
      ]
    },
    {
      "cell_type": "code",
      "execution_count": null,
      "metadata": {},
      "outputs": [],
      "source": [
        "#function that reads .txt file and returns a list of lines\n",
        "def read_file(file_name):\n",
        "    with open(file_name, 'r') as file:\n",
        "        lines = file.readlines()\n",
        "    return lines\n",
        "\n",
        "\n",
        "for line in read_file('MICRODADOS_ENADE_2017.txt'):\n",
        "    attributes = line.split(';')\n",
        "\n",
        "\n",
        "#print(read_file('microdados_enade_2018.txt'))\n",
        "#print(read_file('microdados_enade_2019.txt'))"
      ]
    }
  ],
  "metadata": {
    "colab": {
      "collapsed_sections": [],
      "name": "DW download file.ipynb",
      "provenance": []
    },
    "interpreter": {
      "hash": "3b8f723d779205b1293d6866fcd213f57cba382b172edf103a84a699eabc50b9"
    },
    "kernelspec": {
      "display_name": "Python 3.10.0 64-bit",
      "name": "python3"
    },
    "language_info": {
      "codemirror_mode": {
        "name": "ipython",
        "version": 3
      },
      "file_extension": ".py",
      "mimetype": "text/x-python",
      "name": "python",
      "nbconvert_exporter": "python",
      "pygments_lexer": "ipython3",
      "version": "3.10.0"
    }
  },
  "nbformat": 4,
  "nbformat_minor": 0
}
