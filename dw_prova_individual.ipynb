{
  "cells": [
    {
      "cell_type": "markdown",
      "metadata": {},
      "source": [
        "## Download data"
      ]
    },
    {
      "cell_type": "code",
      "execution_count": 2,
      "metadata": {
        "id": "zgQurAUI_PpJ"
      },
      "outputs": [],
      "source": [
        "import requests\n",
        "\n",
        "def download_file(id, destination):\n",
        "    URL = \"https://drive.google.com/u/0/uc?id=15TygyU78fPtyMDwnwGTQGNdpXtvCZ6RQ&export=download\"\n",
        "\n",
        "    session = requests.Session()\n",
        "    response = session.get(URL, params = {'id': id})\n",
        "    token = get_confirm_token(response)\n",
        "    if(token):\n",
        "        params = {'id': id, 'confirm': token}\n",
        "        response = session.get(URL, params = params)\n",
        "    save_response_content(response, destination)\n",
        "\n",
        "def get_confirm_token(response):\n",
        "    for key, value in response.cookies.items():\n",
        "        if key.startswith('download_warning'):\n",
        "            return value\n",
        "\n",
        "    return None\n",
        "\n",
        "def save_response_content(response, destination):\n",
        "    CHUNK_SIZE = 32768\n",
        "\n",
        "    with open(destination, \"wb\") as f:\n",
        "        for chunk in response.iter_content(CHUNK_SIZE):\n",
        "            if chunk: # filter out keep-alive new chunks\n",
        "                f.write(chunk)\n",
        "\n",
        "if __name__ == \"__main__\":\n",
        "    file_id = '15TygyU78fPtyMDwnwGTQGNdpXtvCZ6RQ'\n",
        "    destination = 'Dados Xexéo.zip'\n",
        "    download_file(file_id, destination)"
      ]
    },
    {
      "cell_type": "markdown",
      "metadata": {},
      "source": [
        "## Cria banco de dados"
      ]
    },
    {
      "cell_type": "code",
      "execution_count": 1,
      "metadata": {},
      "outputs": [
        {
          "name": "stdout",
          "output_type": "stream",
          "text": [
            "2.6.0\n"
          ]
        }
      ],
      "source": [
        "import sqlite3\n",
        "from sqlite3 import Error\n",
        "import os\n",
        "\n",
        "#https://www.sqlitetutorial.net/sqlite-python/\n",
        "\n",
        "\n",
        "def create_connection(db_file):\n",
        "    \"\"\" create a database connection to a SQLite database \"\"\"\n",
        "    conn = None\n",
        "    try:\n",
        "        conn = sqlite3.connect(db_file)\n",
        "        print(sqlite3.version)\n",
        "    except Error as e:\n",
        "        print(e)\n",
        "    finally:\n",
        "        if conn:\n",
        "            conn.close()\n",
        "\n",
        "\n",
        "def getPath():\n",
        "    return os.path.join(os.getcwd(), 'dw_prova_individual.db')\n",
        "\n",
        "\n",
        "if __name__ == '__main__':\n",
        "    conn = create_connection(getPath())\n"
      ]
    },
    {
      "cell_type": "code",
      "execution_count": 2,
      "metadata": {},
      "outputs": [],
      "source": [
        "def create_connection(db_file):\n",
        "    \"\"\" create a database connection to a SQLite database \"\"\"\n",
        "    conn = None\n",
        "    try:\n",
        "        conn = sqlite3.connect(db_file)\n",
        "        return conn\n",
        "    except Error as e:\n",
        "        print(e)\n",
        "\n"
      ]
    },
    {
      "cell_type": "code",
      "execution_count": 3,
      "metadata": {},
      "outputs": [],
      "source": [
        "def create_table(conn, create_table_sql):\n",
        "    \"\"\" create a table from the create_table_sql statement\n",
        "    :param conn: Connection object\n",
        "    :param create_table_sql: a CREATE TABLE statement\n",
        "    :return:\n",
        "    \"\"\"\n",
        "    try:\n",
        "        c = conn.cursor()\n",
        "        c.execute(create_table_sql)\n",
        "    except Error as e:\n",
        "        print(e)\n"
      ]
    },
    {
      "cell_type": "code",
      "execution_count": 4,
      "metadata": {},
      "outputs": [],
      "source": [
        "def main():\n",
        "    database = \"C:\\sqlite\\db\\pythonsqlite.db\"\n",
        "\n",
        "    sql_create_historico_covid_brasil_table = \"\"\" CREATE TABLE IF NOT EXISTS historicoCovidBrasil (\n",
        "                                        regiao text,\n",
        "                                        populacao integer,\n",
        "                                        tempo integer\n",
        "                                    ); \"\"\"\n",
        "\n",
        "    sql_create_tempo_table = \"\"\" CREATE TABLE IF NOT EXISTS tempo (\n",
        "                                        semanaEpi integer,\n",
        "                                        data text\n",
        "                                    );\"\"\"\n",
        "\n",
        "    sql_create_populacao_table = \"\"\" CREATE TABLE IF NOT EXISTS populacao (\n",
        "                                        populacaoTCU2019 integer,\n",
        "                                        casosAcumulado integer,\n",
        "                                        casosNovos integer,\n",
        "                                        obitosAcumulado integer,\n",
        "                                        obitosNovos integer\n",
        "                                    );\"\"\"\n",
        "\n",
        "    sql_regiao_table = \"\"\" CREATE TABLE IF NOT EXISTS regiao (\n",
        "                                        estado text,\n",
        "                                        coduf integer,\n",
        "                                        regiao text,\n",
        "                                    );\"\"\"\n",
        "\n",
        "    # create a database connection\n",
        "    conn = create_connection(database)\n",
        "\n",
        "    # create tables\n",
        "    if conn is not None:\n",
        "        # create historico table\n",
        "        create_table(conn, sql_create_historico_covid_brasil_table)\n",
        "    else:\n",
        "        print(\"Error! cannot create the database connection.\")\n"
      ]
    },
    {
      "cell_type": "code",
      "execution_count": 5,
      "metadata": {},
      "outputs": [],
      "source": [
        "if __name__ == '__main__':\n",
        "    main()"
      ]
    },
    {
      "cell_type": "markdown",
      "metadata": {},
      "source": [
        "## Lê dados do arquivo .txt"
      ]
    },
    {
      "cell_type": "code",
      "execution_count": null,
      "metadata": {},
      "outputs": [],
      "source": [
        "#function that reads .txt file and returns a list of lines\n",
        "def read_file(file_name):\n",
        "    with open(file_name, 'r') as file:\n",
        "        lines = file.readlines()\n",
        "    return lines\n",
        "\n",
        "\n",
        "for line in read_file('MICRODADOS_ENADE_2017.txt'):\n",
        "    attributes = line.split(';')\n",
        "#print(read_file('microdados_enade_2018.txt'))\n",
        "#print(read_file('microdados_enade_2019.txt'))"
      ]
    }
  ],
  "metadata": {
    "colab": {
      "collapsed_sections": [],
      "name": "DW download file.ipynb",
      "provenance": []
    },
    "interpreter": {
      "hash": "3b8f723d779205b1293d6866fcd213f57cba382b172edf103a84a699eabc50b9"
    },
    "kernelspec": {
      "display_name": "Python 3.10.0 64-bit",
      "name": "python3"
    },
    "language_info": {
      "codemirror_mode": {
        "name": "ipython",
        "version": 3
      },
      "file_extension": ".py",
      "mimetype": "text/x-python",
      "name": "python",
      "nbconvert_exporter": "python",
      "pygments_lexer": "ipython3",
      "version": "3.10.0"
    }
  },
  "nbformat": 4,
  "nbformat_minor": 0
}
